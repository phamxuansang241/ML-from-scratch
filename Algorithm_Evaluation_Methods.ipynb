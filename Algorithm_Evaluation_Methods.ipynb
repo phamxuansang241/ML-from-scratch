{
  "nbformat": 4,
  "nbformat_minor": 0,
  "metadata": {
    "colab": {
      "name": "Algorithm Evaluation Methods.ipynb",
      "provenance": [],
      "authorship_tag": "ABX9TyPMy7iAafowxNFzW7VJTZnh",
      "include_colab_link": true
    },
    "kernelspec": {
      "name": "python3",
      "display_name": "Python 3"
    },
    "language_info": {
      "name": "python"
    }
  },
  "cells": [
    {
      "cell_type": "markdown",
      "metadata": {
        "id": "view-in-github",
        "colab_type": "text"
      },
      "source": [
        "<a href=\"https://colab.research.google.com/github/phamxuansang241/ML-from-scratch/blob/Data-Preparation/Algorithm_Evaluation_Methods.ipynb\" target=\"_parent\"><img src=\"https://colab.research.google.com/assets/colab-badge.svg\" alt=\"Open In Colab\"/></a>"
      ]
    },
    {
      "cell_type": "code",
      "metadata": {
        "id": "crPqtR-InMfc"
      },
      "source": [
        "from random import seed\n",
        "from random import randrange"
      ],
      "execution_count": 4,
      "outputs": []
    },
    {
      "cell_type": "markdown",
      "metadata": {
        "id": "jnjvHF_En3On"
      },
      "source": [
        "### Train and Test Split"
      ]
    },
    {
      "cell_type": "code",
      "metadata": {
        "id": "_tf5Za3koE-g"
      },
      "source": [
        "# Split a dataset into a train and test set\n",
        "\n",
        "def train_test_split(dataset, split = 0.60):\n",
        "  train = list()\n",
        "  train_size = split * len(dataset)\n",
        "  dataset_copy = list(dataset)\n",
        "\n",
        "  while len(train) < train_size:\n",
        "    index = randrange(len(dataset_copy))\n",
        "    train.append(dataset_copy.pop(index))\n",
        "  \n",
        "  return train, dataset_copy"
      ],
      "execution_count": 5,
      "outputs": []
    },
    {
      "cell_type": "markdown",
      "metadata": {
        "id": "sBPhy-Y9pDa1"
      },
      "source": [
        "### k-fold Cross-Validation Split"
      ]
    },
    {
      "cell_type": "code",
      "metadata": {
        "id": "KMNMnCqjpBxM"
      },
      "source": [
        "# Split a dataset into $k$ folds\n",
        "def cross_validation_split(dataset, folds = 3):\n",
        "  dataset_split = list()\n",
        "  dataset_copy = list(dataset)\n",
        "  fold_size = int(len(dataset_copy) / folds)\n",
        "\n",
        "  for i in range(folds):\n",
        "    fold = list()\n",
        "    while len(fold) < fold_size:\n",
        "      index = randrange(len(dataset_copy))\n",
        "      fold.append(dataset_copy.pop(index))\n",
        "    dataset_split.append(fold)\n",
        "  \n",
        "  return dataset_split"
      ],
      "execution_count": 9,
      "outputs": []
    },
    {
      "cell_type": "markdown",
      "metadata": {
        "id": "TlD6CaNbqrpc"
      },
      "source": [
        "### Main"
      ]
    },
    {
      "cell_type": "code",
      "metadata": {
        "colab": {
          "base_uri": "https://localhost:8080/"
        },
        "id": "KgcTraP3qpdg",
        "outputId": "15b7b2b1-d269-49b8-b52a-02bbd20c7fbb"
      },
      "source": [
        "# Test train and test split\n",
        "\n",
        "seed(1)\n",
        "dataset = [[1], [2], [3], [4], [5], [6], [7], [8], [9], [10]]\n",
        "\n",
        "train, test = train_test_split(dataset, split = 0.7)\n",
        "print(\"Train set: \", train)\n",
        "print(\"Test set: \", test)"
      ],
      "execution_count": 12,
      "outputs": [
        {
          "output_type": "stream",
          "text": [
            "Train set:  [[3], [2], [7], [1], [8], [9], [10]]\n",
            "Test set:  [[4], [5], [6]]\n"
          ],
          "name": "stdout"
        }
      ]
    },
    {
      "cell_type": "code",
      "metadata": {
        "colab": {
          "base_uri": "https://localhost:8080/"
        },
        "id": "Nbo9_UJxrNhe",
        "outputId": "b501f4b6-1339-4009-92b3-b7fc93f61646"
      },
      "source": [
        "# Test cross-validation split\n",
        "\n",
        "seed(1)\n",
        "dataset = [[1], [2], [3], [4], [5], [6], [7], [8], [9], [10]]\n",
        "\n",
        "folds = cross_validation_split(dataset, folds = 3)\n",
        "len_folds = len(folds)\n",
        "for i in range(len_folds):\n",
        "  print(f\"Fold {i}: {folds[i]}\")"
      ],
      "execution_count": 15,
      "outputs": [
        {
          "output_type": "stream",
          "text": [
            "Fold 0: [[3], [2], [7]]\n",
            "Fold 1: [[1], [8], [9]]\n",
            "Fold 2: [[10], [6], [5]]\n"
          ],
          "name": "stdout"
        }
      ]
    },
    {
      "cell_type": "code",
      "metadata": {
        "id": "TtL4GC47rhWT"
      },
      "source": [
        ""
      ],
      "execution_count": null,
      "outputs": []
    }
  ]
}