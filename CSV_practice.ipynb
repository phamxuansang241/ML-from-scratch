{
  "nbformat": 4,
  "nbformat_minor": 0,
  "metadata": {
    "colab": {
      "name": "CSV_practice.ipynb",
      "provenance": [],
      "collapsed_sections": [],
      "mount_file_id": "1R6aysvcvlXkQbR7j7oJLVWdHF7RJOMTg",
      "authorship_tag": "ABX9TyN3vGGblcThn80U9YNfoPm2",
      "include_colab_link": true
    },
    "kernelspec": {
      "name": "python3",
      "display_name": "Python 3"
    },
    "language_info": {
      "name": "python"
    }
  },
  "cells": [
    {
      "cell_type": "markdown",
      "metadata": {
        "id": "view-in-github",
        "colab_type": "text"
      },
      "source": [
        "<a href=\"https://colab.research.google.com/github/phamxuansang241/ML-from-scratch/blob/main/CSV_practice.ipynb\" target=\"_parent\"><img src=\"https://colab.research.google.com/assets/colab-badge.svg\" alt=\"Open In Colab\"/></a>"
      ]
    },
    {
      "cell_type": "code",
      "metadata": {
        "colab": {
          "base_uri": "https://localhost:8080/"
        },
        "id": "-_6NtxxWarCI",
        "outputId": "365a069f-3b64-4043-c6ce-9c95cf26c1bd"
      },
      "source": [
        "from google.colab import drive\n",
        "drive.mount('/content/drive')"
      ],
      "execution_count": null,
      "outputs": [
        {
          "output_type": "stream",
          "text": [
            "Mounted at /content/drive\n"
          ],
          "name": "stdout"
        }
      ]
    },
    {
      "cell_type": "code",
      "metadata": {
        "colab": {
          "base_uri": "https://localhost:8080/"
        },
        "id": "BTw4GmbmbLxJ",
        "outputId": "5f42dda2-5cb8-4da0-9983-e115d709ffb5"
      },
      "source": [
        "%cd drive"
      ],
      "execution_count": null,
      "outputs": [
        {
          "output_type": "stream",
          "text": [
            "/content/drive\n"
          ],
          "name": "stdout"
        }
      ]
    },
    {
      "cell_type": "code",
      "metadata": {
        "colab": {
          "base_uri": "https://localhost:8080/"
        },
        "id": "OwNdBxXwcIkg",
        "outputId": "9370afb2-44f2-423a-bf9f-67976fda7e41"
      },
      "source": [
        "ls"
      ],
      "execution_count": null,
      "outputs": [
        {
          "output_type": "stream",
          "text": [
            "\u001b[0m\u001b[01;34mMyDrive\u001b[0m/\n"
          ],
          "name": "stdout"
        }
      ]
    },
    {
      "cell_type": "code",
      "metadata": {
        "colab": {
          "base_uri": "https://localhost:8080/"
        },
        "id": "s3iwT-7icJBZ",
        "outputId": "e0356b61-3bc9-4b6f-d79d-c97c79756d87"
      },
      "source": [
        "%cd MyDrive/Colab Notebooks"
      ],
      "execution_count": null,
      "outputs": [
        {
          "output_type": "stream",
          "text": [
            "/content/drive/MyDrive/Colab Notebooks\n"
          ],
          "name": "stdout"
        }
      ]
    },
    {
      "cell_type": "code",
      "metadata": {
        "colab": {
          "base_uri": "https://localhost:8080/"
        },
        "id": "3F1lY0uDcRmK",
        "outputId": "84b1b67e-a81e-4cc0-eb7d-987ec62cbb9d"
      },
      "source": [
        "ls"
      ],
      "execution_count": null,
      "outputs": [
        {
          "output_type": "stream",
          "text": [
            "'Copy of diemthi_analysis.ipynb'   \u001b[0m\u001b[01;34mCSV\u001b[0m/   CSV_practice.ipynb\n"
          ],
          "name": "stdout"
        }
      ]
    },
    {
      "cell_type": "code",
      "metadata": {
        "id": "zibSeEJpcSVg"
      },
      "source": [
        "from csv import reader\n",
        "\n",
        "def load_csv(filename):\n",
        "  dataset = list()\n",
        "  file = open(filename, \"r\")\n",
        "  lines = reader(file)\n",
        "\n",
        "  for row in lines:\n",
        "    if not row:\n",
        "      continue\n",
        "    dataset.append(row)\n",
        "  \n",
        "  return dataset\n",
        "\n",
        "def string_to_float(dataset, column):\n",
        "  for row in dataset:\n",
        "    row[column] = float(row[column].strip())\n",
        "\n",
        "def string_to_int(dataset, column):\n",
        "  lookup = dict()\n",
        "  class_values = [row[column] for row in dataset]\n",
        "  unique = set(class_values)\n",
        "\n",
        "  for i, value in enumerate(unique):\n",
        "    lookup[value] = i\n",
        "\n",
        "  for row in dataset:\n",
        "    row[column] = lookup[row[column]]\n",
        "  \n",
        "  return lookup"
      ],
      "execution_count": null,
      "outputs": []
    },
    {
      "cell_type": "code",
      "metadata": {
        "colab": {
          "base_uri": "https://localhost:8080/"
        },
        "id": "IehRQkcFc85P",
        "outputId": "7d860c31-9299-4d32-b489-05c7cc84bb29"
      },
      "source": [
        "my_filename = \"CSV/iris.csv\"\n",
        "\n",
        "# Loading data\n",
        "my_dataset = load_csv(my_filename)\n",
        "\n",
        "# Finding shape of data\n",
        "len_row = len(my_dataset)\n",
        "len_column = len(my_dataset[0])\n",
        "\n",
        "print(\"The shape of data is ({}, {})\".format(len_row, len_column))\n",
        "\n",
        "# Convert data to string and int\n",
        "for i in range(len_column - 1):\n",
        "  string_to_float(my_dataset, i)\n",
        "\n",
        "print(string_to_int(my_dataset, len_column - 1))\n",
        "\n",
        "print(my_dataset[50])"
      ],
      "execution_count": null,
      "outputs": [
        {
          "output_type": "stream",
          "text": [
            "The shape of data is (150, 5)\n",
            "{'Iris-setosa': 0, 'Iris-versicolor': 1, 'Iris-virginica': 2}\n",
            "[7.0, 3.2, 4.7, 1.4, 1]\n"
          ],
          "name": "stdout"
        }
      ]
    },
    {
      "cell_type": "code",
      "metadata": {
        "id": "2eZyWlIDf7PU"
      },
      "source": [
        ""
      ],
      "execution_count": null,
      "outputs": []
    }
  ]
}